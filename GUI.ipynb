{
  "nbformat": 4,
  "nbformat_minor": 0,
  "metadata": {
    "colab": {
      "name": "GUI.ipynb",
      "provenance": [],
      "collapsed_sections": [],
      "authorship_tag": "ABX9TyORU9Ko7/Ql6QDcwVGfJtXw",
      "include_colab_link": true
    },
    "kernelspec": {
      "name": "python3",
      "display_name": "Python 3"
    },
    "language_info": {
      "name": "python"
    }
  },
  "cells": [
    {
      "cell_type": "markdown",
      "metadata": {
        "id": "view-in-github",
        "colab_type": "text"
      },
      "source": [
        "<a href=\"https://colab.research.google.com/github/AngelRupido/OOP-1-1/blob/main/GUI.ipynb\" target=\"_parent\"><img src=\"https://colab.research.google.com/assets/colab-badge.svg\" alt=\"Open In Colab\"/></a>"
      ]
    },
    {
      "cell_type": "markdown",
      "source": [
        "Students' Grade in OOP Subject"
      ],
      "metadata": {
        "id": "HoYQmV30R5nV"
      }
    },
    {
      "cell_type": "code",
      "source": [
        "#@title Students' Grade in OOP\n",
        "student_name = \"Baby Angel E. Rupido\" #@param {type: \"string\"}\n",
        "prelim =  90#@param {type: \"integer\"}\n",
        "midterm =  91#@param {type: \"integer\"}\n",
        "final =  94#@param {type: \"integer\"}\n",
        "semestral_grade = (prelim + midterm + final)/3\n",
        "\n",
        "print(\"My prelim grade is\", prelim)\n",
        "print(\"My midterm grade is\", midterm)\n",
        "print(\"My final grade is\", final)\n",
        "print(\"My semeatral grade is\", round(semestral_grade, 2))\n",
        "\n",
        "Gender = \"Female\" #@param [\"Male\", \"Female\"]\n",
        "BirthDate = \"2003-01-07\" #@param {type: \"date\"}\n",
        "\n",
        "print(\"My birthdate is\", BirthDate)"
      ],
      "metadata": {
        "id": "LOqxP0UWZ7NZ",
        "colab": {
          "base_uri": "https://localhost:8080/"
        },
        "outputId": "ab89fc69-0a79-4a03-8339-384830077737"
      },
      "execution_count": 24,
      "outputs": [
        {
          "output_type": "stream",
          "name": "stdout",
          "text": [
            "My prelim grade is 90\n",
            "My midterm grade is 91\n",
            "My final grade is 94\n",
            "My semeatral grade is 91.67\n",
            "My birthdate is 2003-01-07\n"
          ]
        }
      ]
    },
    {
      "cell_type": "markdown",
      "source": [
        "Tkinter module - pycharm"
      ],
      "metadata": {
        "id": "aguW_W4pZEac"
      }
    }
  ]
}