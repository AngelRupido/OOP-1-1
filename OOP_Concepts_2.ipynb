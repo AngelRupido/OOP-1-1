{
  "nbformat": 4,
  "nbformat_minor": 0,
  "metadata": {
    "colab": {
      "name": "OOP Concepts 2.ipynb",
      "provenance": [],
      "authorship_tag": "ABX9TyNxert2eugBGut9T7FeFIi9",
      "include_colab_link": true
    },
    "kernelspec": {
      "name": "python3",
      "display_name": "Python 3"
    },
    "language_info": {
      "name": "python"
    }
  },
  "cells": [
    {
      "cell_type": "markdown",
      "metadata": {
        "id": "view-in-github",
        "colab_type": "text"
      },
      "source": [
        "<a href=\"https://colab.research.google.com/github/AngelRupido/OOP-1-1/blob/main/OOP_Concepts_2.ipynb\" target=\"_parent\"><img src=\"https://colab.research.google.com/assets/colab-badge.svg\" alt=\"Open In Colab\"/></a>"
      ]
    },
    {
      "cell_type": "markdown",
      "source": [
        "Classes with multiple objects"
      ],
      "metadata": {
        "id": "n-yAcBMWMXSF"
      }
    },
    {
      "cell_type": "code",
      "source": [
        "class Birds:\n",
        "  def __init__(self,birds_name):\n",
        "    self.birds_name = birds_name\n",
        "  def flying_birds(self):\n",
        "    print(f\"{self.birds_name} flies above the sky.\")                              # string function(f)\n",
        "  def non_flying_birds(self):\n",
        "    print(f\"{self.birds_name} is the national bird of Australia\")   \n",
        "\n",
        "vulture = Birds(\"Griffon Vulture\")\n",
        "crane = Birds(\"Common Crane\")   \n",
        "emu = Birds(\"Emu\")\n",
        "\n",
        "vulture.flying_birds()\n",
        "crane.flying_birds()\n",
        "emu.non_flying_birds()"
      ],
      "metadata": {
        "colab": {
          "base_uri": "https://localhost:8080/"
        },
        "id": "hR4SVu8-MV3x",
        "outputId": "96514393-dbee-4559-ced6-a8fec5c3cf7e"
      },
      "execution_count": null,
      "outputs": [
        {
          "output_type": "stream",
          "name": "stdout",
          "text": [
            "Griffon Vulture flies above the sky\n",
            "Common Crane flies above the sky\n",
            "Emu is the national bird of Australia\n"
          ]
        }
      ]
    },
    {
      "cell_type": "markdown",
      "source": [
        "Encapsulation"
      ],
      "metadata": {
        "id": "O-9H8oz_OsUx"
      }
    },
    {
      "cell_type": "code",
      "source": [
        "class foo:\n",
        " def __init__(self, a, b):\n",
        "  self.a = a\n",
        "  self.b = b \n",
        "\n",
        " def add(self):\n",
        "  return self.a + self.b\n",
        "\n",
        "foo_object = foo(3,4)\n",
        "foo_object.add()\n",
        "\n",
        "foo_object.a = 6\n",
        "foo_object.add()\n"
      ],
      "metadata": {
        "colab": {
          "base_uri": "https://localhost:8080/"
        },
        "id": "mm9si5YNSBry",
        "outputId": "e79e4456-d200-4b1f-eaee-7064d3ed8978"
      },
      "execution_count": null,
      "outputs": [
        {
          "output_type": "execute_result",
          "data": {
            "text/plain": [
              "10"
            ]
          },
          "metadata": {},
          "execution_count": 9
        }
      ]
    },
    {
      "cell_type": "code",
      "source": [
        "class foo:\n",
        " def __init__(self, a, b):\n",
        "  self.__a = a\n",
        "  self.__b = b \n",
        "\n",
        " def add(self):\n",
        "  return self.__a + self.__b\n",
        "\n",
        "foo_object = foo(3,4)\n",
        "foo_object.add()\n",
        "\n",
        "#object_foo.a = 6 \n",
        "#object_foo.add()"
      ],
      "metadata": {
        "colab": {
          "base_uri": "https://localhost:8080/"
        },
        "id": "fLE5nAfCOpOK",
        "outputId": "e434022d-6448-4158-865d-905f9e8f3591"
      },
      "execution_count": null,
      "outputs": [
        {
          "output_type": "execute_result",
          "data": {
            "text/plain": [
              "7"
            ]
          },
          "metadata": {},
          "execution_count": 28
        }
      ]
    },
    {
      "cell_type": "code",
      "source": [
        "# information hiding - Encapsulation (__)\n",
        "class Counter: \n",
        "  def __init__(self):\n",
        "    self.__current= 0\n",
        "  def increment(self):\n",
        "    self.__current+=1\n",
        "  def value(self):\n",
        "    return self.__current \n",
        "  def reset(self):\n",
        "    self.__current= 0\n",
        "\n",
        "number = Counter()\n",
        "number.increment()\n",
        "number.increment()\n",
        "number.increment()\n",
        "\n",
        "print(number.value())"
      ],
      "metadata": {
        "colab": {
          "base_uri": "https://localhost:8080/"
        },
        "id": "Ni944SVfTfov",
        "outputId": "3b3114ed-c9ba-4d1a-cb67-2120619ab269"
      },
      "execution_count": null,
      "outputs": [
        {
          "output_type": "stream",
          "name": "stdout",
          "text": [
            "3\n"
          ]
        }
      ]
    },
    {
      "cell_type": "markdown",
      "source": [
        "Inheritance"
      ],
      "metadata": {
        "id": "HR2GZvbzU9Hc"
      }
    },
    {
      "cell_type": "code",
      "source": [
        "class Person:\n",
        "  def __init__(self,firstname,surname):\n",
        "    self.firstname = firstname\n",
        "    self.surname = surname\n",
        "\n",
        "  def fullname(self):\n",
        "    print(self.firstname,self.surname)\n",
        "\n",
        "person = Person(\"Angel\",\"Rupido\")\n",
        "person.fullname()    \n",
        "\n",
        "class Teacher(Person):\n",
        "  pass\n",
        "\n",
        "person2 = Teacher(\"Maam\",\"Sayo\")\n",
        "person2.fullname()\n",
        "\n",
        "class Student(Person):\n",
        "  pass\n",
        "\n",
        "person3 = Student(\"Mae\",\"Arahan\")\n",
        "person3.fullname()   "
      ],
      "metadata": {
        "colab": {
          "base_uri": "https://localhost:8080/"
        },
        "id": "xdWz06UiU-1b",
        "outputId": "1a8810f5-4dc1-4c95-fa15-da82923d496f"
      },
      "execution_count": null,
      "outputs": [
        {
          "output_type": "stream",
          "name": "stdout",
          "text": [
            "Angel Rupido\n",
            "Maam Maria\n",
            "Lance Alcala\n"
          ]
        }
      ]
    },
    {
      "cell_type": "markdown",
      "source": [
        "Polymorphism "
      ],
      "metadata": {
        "id": "uj803rCfXhdh"
      }
    },
    {
      "cell_type": "code",
      "source": [
        "class RegularPolygon:\n",
        "    def __init__(self,side):\n",
        "        self.side = side\n",
        "class Square(RegularPolygon):\n",
        "    def area(self):\n",
        "        return self.side * self.side\n",
        "class EquilateralTriangle(RegularPolygon):\n",
        "    def area(self):\n",
        "        return self.side * self.side * 0.433\n",
        "\n",
        "obj1 = Square(4)\n",
        "print(obj1.area())\n",
        "\n",
        "obj2 = EquilateralTriangle(3)\n",
        "print(obj2.area()) "
      ],
      "metadata": {
        "colab": {
          "base_uri": "https://localhost:8080/"
        },
        "id": "NitSMyiRXMKT",
        "outputId": "f1890330-4830-4073-8746-7e84a99c7dcd"
      },
      "execution_count": null,
      "outputs": [
        {
          "output_type": "stream",
          "name": "stdout",
          "text": [
            "16\n",
            "3.897\n"
          ]
        }
      ]
    },
    {
      "cell_type": "markdown",
      "source": [
        "APPLICATION 1 (to be submitted next week)"
      ],
      "metadata": {
        "id": "TeENyPp_Y34-"
      }
    },
    {
      "cell_type": "markdown",
      "source": [
        "1. Create a Python program that displays the name of three students (Student 1, Student 2, and Student 3) and their term grades\n",
        "2. Create a class name Person and attributes - std1,std2,std3,pre,mid,fin\n",
        "3. Compute the average of each term grade using Grade() method\n",
        "4. Information about student s grades must be hidden from others"
      ],
      "metadata": {
        "id": "0GEFYx84ZHs1"
      }
    },
    {
      "cell_type": "code",
      "source": [
        "#1. Create a Python program that displays the name of three students (Student 1, Student 2, and Student 3) and their term grades\n",
        "#2. Create a class name Person and attributes - std1,std2,std3,pre,mid,fin\n",
        "#3. Compute the average of each term grade using Grade() method\n",
        "#4. Information about students grades must be hidden from others\n",
        "\n",
        "class Person:\n",
        "  def __init__ (self,std, pre,mid,fin):\n",
        "    self.std=std\n",
        "    self.pre=pre\n",
        "    self.mid=mid\n",
        "    self.fin=fin\n",
        "    \n",
        "  def term_grades(self):\n",
        "    print(f\"{self.std}\")\n",
        "    print(f\" Prelims  : {self.pre}\") \n",
        "    print(f\" Midterms : {self.mid}\")\n",
        "    print(f\" Finals   : {self.fin}\")\n",
        "\n",
        "class Grades(Person):\n",
        "  pass\n",
        "print(\"Student term grades:\\n\")\n",
        "\n",
        "std1=Grades(\"Student 1\",85,86,87 )\n",
        "std1.term_grades()\n",
        "std2=Grades(\"Student 2\",88,89,90)\n",
        "std2.term_grades()\n",
        "std3=Grades(\"Student 3\",91,92,93)\n",
        "std3.term_grades()\n",
        "\n",
        "print(\"\\nAverage term grades:\")\n",
        "import statistics   \n",
        "std1 = (85,86,87)\n",
        "average = statistics.mean(std1)\n",
        "print(\"Student 1 average term grade is \" + str(round(average, 2)), \".\")\n",
        "\n",
        "std2 = (88,89,90)\n",
        "average = statistics.mean(std2)\n",
        "print(\"Student 2 average term grade is \" + str(round(average, 2)), \".\")\n",
        "\n",
        "std3 = (91,92,93)\n",
        "average = statistics.mean(std3)\n",
        "print(\"Student 1 average term grade is \" + str(round(average, 2)), \".\")"
      ],
      "metadata": {
        "id": "IrdofS6N1CkR",
        "colab": {
          "base_uri": "https://localhost:8080/"
        },
        "outputId": "d378f302-144d-45b3-baf9-da81cc788e2a"
      },
      "execution_count": 5,
      "outputs": [
        {
          "output_type": "stream",
          "name": "stdout",
          "text": [
            "Student term grades:\n",
            "\n",
            "Student 1\n",
            " Prelims  : 85\n",
            " Midterms : 86\n",
            " Finals   : 87\n",
            "Student 2\n",
            " Prelims  : 88\n",
            " Midterms : 89\n",
            " Finals   : 90\n",
            "Student 3\n",
            " Prelims  : 91\n",
            " Midterms : 92\n",
            " Finals   : 93\n",
            "\n",
            "Average term grades:\n",
            "Student 1 average term grade is 86 .\n",
            "Student 2 average term grade is 89 .\n",
            "Student 1 average term grade is 92 .\n"
          ]
        }
      ]
    }
  ]
}