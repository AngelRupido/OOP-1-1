{
  "nbformat": 4,
  "nbformat_minor": 0,
  "metadata": {
    "colab": {
      "name": "Prelim Exam.ipynb",
      "provenance": [],
      "authorship_tag": "ABX9TyPNe+4z4kQdzHbY9V+JHX7W",
      "include_colab_link": true
    },
    "kernelspec": {
      "name": "python3",
      "display_name": "Python 3"
    },
    "language_info": {
      "name": "python"
    }
  },
  "cells": [
    {
      "cell_type": "markdown",
      "metadata": {
        "id": "view-in-github",
        "colab_type": "text"
      },
      "source": [
        "<a href=\"https://colab.research.google.com/github/AngelRupido/OOP-1-1/blob/main/Prelim_Exam.ipynb\" target=\"_parent\"><img src=\"https://colab.research.google.com/assets/colab-badge.svg\" alt=\"Open In Colab\"/></a>"
      ]
    },
    {
      "cell_type": "markdown",
      "source": [
        "##PROBLEM 2"
      ],
      "metadata": {
        "id": "4Z0M20ZN9Kf4"
      }
    },
    {
      "cell_type": "code",
      "execution_count": null,
      "metadata": {
        "id": "HhIiAfoJ4HZS"
      },
      "outputs": [],
      "source": [
        "#Write a Python to display your full name, student number, age, and course\n",
        "#Create a class named Student with attributes: Name, Student_No, Age, School, and Course\n",
        "#Create an object named Myself and assign an instance for each attribute.\n",
        "#Create a method Info() using an instantiation of a class."
      ]
    },
    {
      "cell_type": "code",
      "source": [
        "class Student:\n",
        "  def __init__(self,Name,student_no,Age,School,Course): \n",
        "    self.Name = Name                                        \n",
        "    self.Student_no = student_no\n",
        "    self.Age = Age\n",
        "    self.School = School \n",
        "    self.Course = Course\n",
        "  \n",
        "  def Info(self):\n",
        "    print(\"Name:\" f\"{self.Name}, Student_no:\" f\"{self.Student_no}, Age:\" f\" {self.Age},\" \" School:\" f\" {self.School},\" \" Course:\" f\" {self.Course}.\")\n",
        "\n",
        "Myself = Student(\"Baby Angel E. Rupido\", \"202103135\", 19,\"CvSU\",\"BSCpE\")                \n",
        "Myself.Info() "
      ],
      "metadata": {
        "colab": {
          "base_uri": "https://localhost:8080/"
        },
        "id": "SOmdVieW6prT",
        "outputId": "b2950aa2-3c05-45ef-c273-d9a5dc5a8210"
      },
      "execution_count": 16,
      "outputs": [
        {
          "output_type": "stream",
          "name": "stdout",
          "text": [
            "Name:Baby Angel E. Rupido, Student_no:202103135, Age: 19, School: CvSU, Course: BSCpE.\n"
          ]
        }
      ]
    }
  ]
}