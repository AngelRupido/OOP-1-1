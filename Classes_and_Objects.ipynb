{
  "nbformat": 4,
  "nbformat_minor": 0,
  "metadata": {
    "colab": {
      "name": "Classes and Objects.ipynb",
      "provenance": [],
      "authorship_tag": "ABX9TyPxFbw83nsrZckeryAVlzVR",
      "include_colab_link": true
    },
    "kernelspec": {
      "name": "python3",
      "display_name": "Python 3"
    },
    "language_info": {
      "name": "python"
    }
  },
  "cells": [
    {
      "cell_type": "markdown",
      "metadata": {
        "id": "view-in-github",
        "colab_type": "text"
      },
      "source": [
        "<a href=\"https://colab.research.google.com/github/AngelRupido/OOP-1-1/blob/main/Classes_and_Objects.ipynb\" target=\"_parent\"><img src=\"https://colab.research.google.com/assets/colab-badge.svg\" alt=\"Open In Colab\"/></a>"
      ]
    },
    {
      "cell_type": "markdown",
      "source": [
        "##Application 2 - Write a Python program that displays the full name of the student, student number, age course, school. Create a class name OOP_1_1 and create info() method to display the information of the student with full name, student_no, age, school as attributes. "
      ],
      "metadata": {
        "id": "KDFtCMli1BXv"
      }
    },
    {
      "cell_type": "code",
      "source": [
        "# APPLICATION # 2.1\n",
        "\n",
        "class OOP_1_1:\n",
        "  def __init__(self,fullname,student_no,age,course, school): \n",
        "    self.fullname = fullname                                        \n",
        "    self.student_no = student_no\n",
        "    self.age = age\n",
        "    self.course = course\n",
        "    self.school = school\n",
        "    \n",
        "  def display(self):\n",
        "    print(self.fullname,self.student_no,self.age,self.course,self.school)\n",
        "\n",
        "student = OOP_1_1(\"Baby Angel E. Rupido\", \"202103135\", 19, \"BSCpE\", \"CvSU\")                \n",
        "student.display() "
      ],
      "metadata": {
        "colab": {
          "base_uri": "https://localhost:8080/"
        },
        "id": "LlmE20y91Dcl",
        "outputId": "8d3a4df2-86a3-4210-d586-888c16f23d8a"
      },
      "execution_count": null,
      "outputs": [
        {
          "output_type": "stream",
          "name": "stdout",
          "text": [
            "Baby Angel E. Rupido 202103135 19 BSCpE CvSU\n"
          ]
        }
      ]
    },
    {
      "cell_type": "code",
      "source": [
        "# APPLICATION # 2.2\n",
        "\n",
        "class OOP_1_1:\n",
        "  def __init__(self,fullname,student_no,age,course,school): \n",
        "    self.fullname = fullname                                        \n",
        "    self.student_no = student_no\n",
        "    self.age = age\n",
        "    self.course = course\n",
        "    self.school = school\n",
        "   \n",
        "  def display(self):\n",
        "    print(\"My name is\", self.fullname)\n",
        "    print(\"My Student Number is\", self.student_no)\n",
        "    print(\"My age is\", self.age) \n",
        "    print(\"My course is\", self.course)   \n",
        "    print(\"My school is\", self.school)\n",
        "    \n",
        "student = OOP_1_1(\"Baby Angel E. Rupido\", \"202103135\", 19, \"BSCpE\", \"CvSU\")                \n",
        "student.display()"
      ],
      "metadata": {
        "colab": {
          "base_uri": "https://localhost:8080/"
        },
        "id": "gnC2JeH24PxD",
        "outputId": "ed1244ed-ad68-4247-f288-3f753889c688"
      },
      "execution_count": null,
      "outputs": [
        {
          "output_type": "stream",
          "name": "stdout",
          "text": [
            "My name is Baby Angel E. Rupido\n",
            "My Student Number is 202103135\n",
            "My age is 19\n",
            "My course is BSCpE\n",
            "My school is CvSU\n"
          ]
        }
      ]
    },
    {
      "cell_type": "markdown",
      "source": [
        "##Application 3 -  Define an Area() method of the class Circle that calculates the circles area. Define the Perimeter() method of the class which allows you to calculate the perimeter of the circle."
      ],
      "metadata": {
        "id": "R9O0rvBz6pqQ"
      }
    },
    {
      "cell_type": "code",
      "source": [
        "# APPLICATION 3\n",
        "\n",
        "class Circle:\n",
        "  def __init__(self, π, r):\n",
        "    self.π = π\n",
        "    self.r = r\n",
        "\n",
        "  def Area(self):                                   # Define an Area() method of the class Circle that calculates the circles area. \n",
        "    print(self.π * self.r **2)\n",
        "\n",
        "  def Perimeter(self):                              # Define the Perimeter() method of the class which allows you to calculate the perimeter of the circle\n",
        "    print(2 * self.π * self.r)\n",
        "\n",
        "Circle = Circle(3.14,7)\n",
        "Circle.Area()\n",
        "Circle.Perimeter()"
      ],
      "metadata": {
        "id": "_baBTAb2gsyA",
        "colab": {
          "base_uri": "https://localhost:8080/"
        },
        "outputId": "19dda46c-2bd6-4a2b-8ea5-cab291c466a7"
      },
      "execution_count": 5,
      "outputs": [
        {
          "output_type": "stream",
          "name": "stdout",
          "text": [
            "153.86\n",
            "43.96\n"
          ]
        }
      ]
    }
  ]
}