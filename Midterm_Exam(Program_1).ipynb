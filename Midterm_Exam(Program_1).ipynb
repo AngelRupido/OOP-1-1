{
  "nbformat": 4,
  "nbformat_minor": 0,
  "metadata": {
    "colab": {
      "name": "Midterm Exam(Program 1).ipynb",
      "provenance": [],
      "authorship_tag": "ABX9TyN3rosMVKyuVzqLWFYOjlI1",
      "include_colab_link": true
    },
    "kernelspec": {
      "name": "python3",
      "display_name": "Python 3"
    },
    "language_info": {
      "name": "python"
    }
  },
  "cells": [
    {
      "cell_type": "markdown",
      "metadata": {
        "id": "view-in-github",
        "colab_type": "text"
      },
      "source": [
        "<a href=\"https://colab.research.google.com/github/AngelRupido/OOP-1-1/blob/main/Midterm_Exam(Program_1).ipynb\" target=\"_parent\"><img src=\"https://colab.research.google.com/assets/colab-badge.svg\" alt=\"Open In Colab\"/></a>"
      ]
    },
    {
      "cell_type": "code",
      "source": [
        "# Program 1: Modify the program below by adding two conversion methods - Fahrenheit to Celsius and Kelvin to Celsius (50 points)\n",
        "\n",
        "def modify():\n",
        "    class Conversion:\n",
        "        def __init__(self, temp=1.0):\n",
        "            self._temp = temp\n",
        "\n",
        "    class CelsiusToFahrenheit(Conversion):\n",
        "        def conversion(self):\n",
        "            return (self._temp*9)/5 + 32\n",
        "    \n",
        "    class CelsiusToKelvin(Conversion):\n",
        "        def conversion(self):\n",
        "            return self._temp + 273.15\n",
        "    CelsiusTemperature = float(input(\"Enter the temperature in Celsius: \"))\n",
        "    convert = CelsiusToKelvin(CelsiusTemperature)\n",
        "    print(str(convert.conversion()) + \" Kelvin\")\n",
        "    convert = CelsiusToFahrenheit(CelsiusTemperature)\n",
        "    print(str(convert.conversion()) + \" Fahrenheit\")\n",
        "\n",
        "    class FahrenheitToCelsius(Conversion):\n",
        "        def conversion(self):\n",
        "            return (self._temp - 32) * 5/9\n",
        "\n",
        "    FahrenheitTemperature = float(input(\"Enter the temperature in Fahrenheit: \"))\n",
        "    convert = FahrenheitToCelsius(FahrenheitTemperature)\n",
        "    print(str(convert.conversion()) + \" Celsius\")\n",
        "\n",
        "    class KelvinToCelsius(Conversion):\n",
        "        def conversion(self):\n",
        "            return self._temp - 273.15\n",
        "\n",
        "    KelvinTemperature = float(input(\"Enter the temperature in Kelvin: \"))\n",
        "    convert = KelvinToCelsius(KelvinTemperature)\n",
        "    print(str(convert.conversion()) + \" Celsius\")\n",
        "\n",
        "modify()"
      ],
      "metadata": {
        "colab": {
          "base_uri": "https://localhost:8080/"
        },
        "id": "vnxr84Wlo1yO",
        "outputId": "d3b173a8-2aa4-466c-faa0-c70ee3aa23a3"
      },
      "execution_count": 19,
      "outputs": [
        {
          "output_type": "stream",
          "name": "stdout",
          "text": [
            "Enter the temperature in Celsius: 100\n",
            "373.15 Kelvin\n",
            "212.0 Fahrenheit\n",
            "Enter the temperature in Fahrenheit: 212\n",
            "100.0 Celsius\n",
            "Enter the temperature in Kelvin: 373.15\n",
            "100.0 Celsius\n"
          ]
        }
      ]
    }
  ]
}