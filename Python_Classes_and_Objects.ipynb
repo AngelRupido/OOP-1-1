{
  "nbformat": 4,
  "nbformat_minor": 0,
  "metadata": {
    "colab": {
      "name": "Python Classes and Objects.ipynb",
      "provenance": [],
      "authorship_tag": "ABX9TyOR7coRBsZtBrdImSPP9PA9",
      "include_colab_link": true
    },
    "kernelspec": {
      "name": "python3",
      "display_name": "Python 3"
    },
    "language_info": {
      "name": "python"
    }
  },
  "cells": [
    {
      "cell_type": "markdown",
      "metadata": {
        "id": "view-in-github",
        "colab_type": "text"
      },
      "source": [
        "<a href=\"https://colab.research.google.com/github/AngelRupido/OOP-1-1/blob/main/Python_Classes_and_Objects.ipynb\" target=\"_parent\"><img src=\"https://colab.research.google.com/assets/colab-badge.svg\" alt=\"Open In Colab\"/></a>"
      ]
    },
    {
      "cell_type": "markdown",
      "source": [
        "Class"
      ],
      "metadata": {
        "id": "Ekx0-rxiyzpB"
      }
    },
    {
      "cell_type": "code",
      "source": [
        "class MyClass:\n",
        "  pass                                        # create a class without declaring variables and methods"
      ],
      "metadata": {
        "id": "K0Ecn5j6y580"
      },
      "execution_count": null,
      "outputs": []
    },
    {
      "cell_type": "code",
      "source": [
        "class MyClass:\n",
        "  def __init__(self,name,age): \n",
        "    self.name = name                          # create a class with attributes\n",
        "    self.age = age\n",
        "\n",
        "  def display(self):\n",
        "    print(self.name,self.age)\n",
        "\n",
        "person = MyClass(\"Angel\", 19)                 # create an object name\n",
        "\n",
        "print(person.name)\n",
        "print(person.age)\n"
      ],
      "metadata": {
        "colab": {
          "base_uri": "https://localhost:8080/"
        },
        "id": "N13uHflUzvKh",
        "outputId": "b9b9b9dc-b6a0-4ac6-9ccb-dde786e70ce2"
      },
      "execution_count": null,
      "outputs": [
        {
          "output_type": "stream",
          "name": "stdout",
          "text": [
            "Angel\n",
            "19\n"
          ]
        }
      ]
    },
    {
      "cell_type": "code",
      "source": [
        "class MyClass:\n",
        "  def __init__(self,name,age): \n",
        "    self.name = name                                         # create a class with attributes\n",
        "    self.age = age\n",
        "\n",
        "  def display(self):\n",
        "    print(self.name,self.age)\n",
        "\n",
        "person = MyClass(\"Baby Angel E. Rupido\", 19)                 # create an object name\n",
        "\n",
        "person.display()\n"
      ],
      "metadata": {
        "colab": {
          "base_uri": "https://localhost:8080/"
        },
        "id": "Q95pESRJ2vsQ",
        "outputId": "6a4aeea6-685d-48ad-b953-a6f78141d087"
      },
      "execution_count": null,
      "outputs": [
        {
          "output_type": "stream",
          "name": "stdout",
          "text": [
            "Baby Angel E. Rupido 19\n"
          ]
        }
      ]
    },
    {
      "cell_type": "code",
      "source": [
        "#Application 1 - Write a Python program that computes for an area of reactabgle A = lxw\n",
        "\n",
        "class Rectangle:\n",
        "  def __init__(self,l,w):\n",
        "    self.l = l                                #attribute names\n",
        "    self.w = w \n",
        "\n",
        "  def Area(self):\n",
        "    print(self.l * self.w)  \n",
        "\n",
        "rect = Rectangle(7,3)\n",
        "rect.Area()    "
      ],
      "metadata": {
        "colab": {
          "base_uri": "https://localhost:8080/"
        },
        "id": "q5COqzwf2-8p",
        "outputId": "62feec52-b664-4e8c-936e-8c9cea480343"
      },
      "execution_count": null,
      "outputs": [
        {
          "output_type": "stream",
          "name": "stdout",
          "text": [
            "21\n"
          ]
        }
      ]
    }
  ]
}